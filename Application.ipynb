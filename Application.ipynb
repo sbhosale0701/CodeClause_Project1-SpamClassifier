{
  "cells": [
    {
      "cell_type": "markdown",
      "metadata": {
        "id": "view-in-github",
        "colab_type": "text"
      },
      "source": [
        "<a href=\"https://colab.research.google.com/github/sbhosale0701/CodeClause_Project1-SpamClassifier/blob/main/Application.ipynb\" target=\"_parent\"><img src=\"https://colab.research.google.com/assets/colab-badge.svg\" alt=\"Open In Colab\"/></a>"
      ]
    },
    {
      "cell_type": "code",
      "execution_count": null,
      "metadata": {
        "id": "jQwNf36lpTGq",
        "outputId": "519e3d57-2f94-4e03-c98b-f83661536ac7"
      },
      "outputs": [
        {
          "name": "stdout",
          "output_type": "stream",
          "text": [
            "<class 'pandas.core.frame.DataFrame'>\n",
            "RangeIndex: 5567 entries, 0 to 5566\n",
            "Data columns (total 2 columns):\n",
            "Class      5567 non-null object\n",
            "Message    5567 non-null object\n",
            "dtypes: object(2)\n",
            "memory usage: 87.1+ KB\n",
            "Prediction Accuracy : 98.29443447037703\n",
            "Enter Message: as a valued coustmer, you win a 500 bonus prize\n",
            "------------------------MESSAGE--SENT-[CHECK-SPAM-FOLDER]---------------------------\n"
          ]
        }
      ],
      "source": [
        "% run ClassifierModel.ipynb"
      ]
    }
  ],
  "metadata": {
    "kernelspec": {
      "display_name": "Python 3",
      "language": "python",
      "name": "python3"
    },
    "language_info": {
      "codemirror_mode": {
        "name": "ipython",
        "version": 3
      },
      "file_extension": ".py",
      "mimetype": "text/x-python",
      "name": "python",
      "nbconvert_exporter": "python",
      "pygments_lexer": "ipython3",
      "version": "3.7.0"
    },
    "colab": {
      "provenance": [],
      "include_colab_link": true
    }
  },
  "nbformat": 4,
  "nbformat_minor": 0
}